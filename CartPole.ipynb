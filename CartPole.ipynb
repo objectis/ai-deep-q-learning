{
  "nbformat": 4,
  "nbformat_minor": 0,
  "metadata": {
    "colab": {
      "name": "CartPole.ipynb",
      "provenance": [],
      "collapsed_sections": [],
      "include_colab_link": true
    },
    "kernelspec": {
      "name": "python3",
      "display_name": "Python 3"
    }
  },
  "cells": [
    {
      "cell_type": "markdown",
      "metadata": {
        "id": "view-in-github",
        "colab_type": "text"
      },
      "source": [
        "<a href=\"https://colab.research.google.com/github/objectis/ai-deep-q-learning/blob/master/CartPole.ipynb\" target=\"_parent\"><img src=\"https://colab.research.google.com/assets/colab-badge.svg\" alt=\"Open In Colab\"/></a>"
      ]
    },
    {
      "cell_type": "markdown",
      "metadata": {
        "id": "bhyJLkJjfMNW",
        "colab_type": "text"
      },
      "source": [
        "###Imports"
      ]
    },
    {
      "cell_type": "code",
      "metadata": {
        "id": "z8nZvBRrTygz",
        "colab_type": "code",
        "colab": {}
      },
      "source": [
        "import random\n",
        "import gym\n",
        "import numpy as np\n",
        "from collections import deque\n",
        "from keras.models import Sequential\n",
        "from keras.layers import Dense\n",
        "from keras.optimizers import Adam\n",
        "from keras import backend as K\n",
        "\n",
        "import tensorflow as tf"
      ],
      "execution_count": 0,
      "outputs": []
    },
    {
      "cell_type": "markdown",
      "metadata": {
        "id": "MfdX8xHDfPDg",
        "colab_type": "text"
      },
      "source": [
        "###Agent"
      ]
    },
    {
      "cell_type": "code",
      "metadata": {
        "id": "SLuf05jbUGxM",
        "colab_type": "code",
        "colab": {}
      },
      "source": [
        "EPISODES = 60\n",
        "\n",
        "class DQNAgent:\n",
        "    def __init__(self, state_size, action_size):\n",
        "        self.state_size = state_size\n",
        "        self.action_size = action_size\n",
        "        self.memory = deque(maxlen=2000)\n",
        "        self.gamma = 0.95    # discount rate\n",
        "        self.epsilon = 1.0  # exploration rate\n",
        "        self.epsilon_min = 0.01\n",
        "        self.epsilon_decay = 0.99\n",
        "        self.learning_rate = 0.001\n",
        "        self.model = self._build_model()\n",
        "        self.target_model = self._build_model()\n",
        "        self.update_target_model()\n",
        "\n",
        "    def _huber_loss(self, y_true, y_pred, clip_delta=1.0):\n",
        "        error = y_true - y_pred\n",
        "        cond  = K.abs(error) <= clip_delta\n",
        "\n",
        "        squared_loss = 0.5 * K.square(error)\n",
        "        quadratic_loss = 0.5 * K.square(clip_delta) + clip_delta * (K.abs(error) - clip_delta)\n",
        "\n",
        "        return K.mean(tf.where(cond, squared_loss, quadratic_loss))\n",
        "\n",
        "    def _build_model(self):\n",
        "        model = Sequential()\n",
        "        model.add(Dense(24, input_dim=self.state_size, activation='relu'))\n",
        "        model.add(Dense(24, activation='relu'))\n",
        "        model.add(Dense(self.action_size, activation='linear'))\n",
        "        model.compile(loss=self._huber_loss,\n",
        "                      optimizer=Adam(lr=self.learning_rate))\n",
        "        return model\n",
        "\n",
        "    def update_target_model(self):\n",
        "        # copy weights from model to target_model\n",
        "        self.target_model.set_weights(self.model.get_weights())\n",
        "\n",
        "    def remember(self, state, action, reward, next_state, done):\n",
        "        self.memory.append((state, action, reward, next_state, done))\n",
        "\n",
        "    def act(self, state):\n",
        "        if np.random.rand() <= self.epsilon:\n",
        "            return random.randrange(self.action_size)\n",
        "        act_values = self.model.predict(state)\n",
        "        return np.argmax(act_values[0])  # returns action\n",
        "\n",
        "    def replay(self, batch_size):\n",
        "        minibatch = random.sample(self.memory, batch_size)\n",
        "        for state, action, reward, next_state, done in minibatch:\n",
        "            target = self.model.predict(state)\n",
        "            if done:\n",
        "                target[0][action] = reward\n",
        "            else:\n",
        "                # a = self.model.predict(next_state)[0]\n",
        "                t = self.target_model.predict(next_state)[0]\n",
        "                target[0][action] = reward + self.gamma * np.amax(t)\n",
        "                # target[0][action] = reward + self.gamma * t[np.argmax(a)]\n",
        "            self.model.fit(state, target, epochs=1, verbose=0)\n",
        "        if self.epsilon > self.epsilon_min:\n",
        "            self.epsilon *= self.epsilon_decay\n",
        "\n",
        "    def load(self, name):\n",
        "        self.model.load_weights(name)\n",
        "\n",
        "    def save(self, name):\n",
        "        self.model.save_weights(name)\n"
      ],
      "execution_count": 0,
      "outputs": []
    },
    {
      "cell_type": "markdown",
      "metadata": {
        "id": "iGKG6peDfTYD",
        "colab_type": "text"
      },
      "source": [
        "###Training"
      ]
    },
    {
      "cell_type": "code",
      "metadata": {
        "id": "Gs1L9SabUUNg",
        "colab_type": "code",
        "outputId": "16962808-6061-4274-898a-0b4d2be6180f",
        "colab": {
          "base_uri": "https://localhost:8080/",
          "height": 1000
        }
      },
      "source": [
        "if __name__ == \"__main__\":\n",
        "    env = gym.make('CartPole-v1')\n",
        "    state_size = env.observation_space.shape[0]\n",
        "    action_size = env.action_space.n\n",
        "    agent = DQNAgent(state_size, action_size)\n",
        "    done = False\n",
        "    batch_size = 32\n",
        "\n",
        "    for e in range(EPISODES):\n",
        "        state = env.reset()\n",
        "        state = np.reshape(state, [1, state_size])\n",
        "        for time in range(500):\n",
        "            # env.render()\n",
        "            action = agent.act(state)\n",
        "            next_state, reward, done, _ = env.step(action)\n",
        "            reward = reward if not done else -10\n",
        "            next_state = np.reshape(next_state, [1, state_size])\n",
        "            agent.remember(state, action, reward, next_state, done)\n",
        "            state = next_state\n",
        "            if done:\n",
        "                agent.update_target_model()\n",
        "                print(\"episode: {}/{}, score: {}, e: {:.2}\"\n",
        "                      .format(e, EPISODES, time, agent.epsilon))\n",
        "                break\n",
        "            if len(agent.memory) > batch_size:\n",
        "                agent.replay(batch_size)"
      ],
      "execution_count": 0,
      "outputs": [
        {
          "output_type": "stream",
          "text": [
            "episode: 0/60, score: 21, e: 1.0\n",
            "episode: 1/60, score: 23, e: 0.88\n",
            "episode: 2/60, score: 17, e: 0.74\n",
            "episode: 3/60, score: 11, e: 0.66\n",
            "episode: 4/60, score: 11, e: 0.59\n",
            "episode: 5/60, score: 10, e: 0.54\n",
            "episode: 6/60, score: 21, e: 0.43\n",
            "episode: 7/60, score: 50, e: 0.26\n",
            "episode: 8/60, score: 23, e: 0.21\n",
            "episode: 9/60, score: 47, e: 0.13\n",
            "episode: 10/60, score: 55, e: 0.075\n",
            "episode: 11/60, score: 99, e: 0.028\n",
            "episode: 12/60, score: 112, e: 0.0099\n",
            "episode: 13/60, score: 183, e: 0.0099\n",
            "episode: 14/60, score: 124, e: 0.0099\n",
            "episode: 15/60, score: 75, e: 0.0099\n",
            "episode: 16/60, score: 79, e: 0.0099\n",
            "episode: 17/60, score: 98, e: 0.0099\n",
            "episode: 18/60, score: 82, e: 0.0099\n",
            "episode: 19/60, score: 81, e: 0.0099\n",
            "episode: 20/60, score: 91, e: 0.0099\n",
            "episode: 21/60, score: 122, e: 0.0099\n",
            "episode: 22/60, score: 148, e: 0.0099\n",
            "episode: 23/60, score: 156, e: 0.0099\n",
            "episode: 24/60, score: 136, e: 0.0099\n",
            "episode: 25/60, score: 150, e: 0.0099\n",
            "episode: 26/60, score: 124, e: 0.0099\n",
            "episode: 27/60, score: 147, e: 0.0099\n",
            "episode: 28/60, score: 149, e: 0.0099\n",
            "episode: 29/60, score: 143, e: 0.0099\n",
            "episode: 30/60, score: 132, e: 0.0099\n",
            "episode: 31/60, score: 44, e: 0.0099\n",
            "episode: 32/60, score: 35, e: 0.0099\n",
            "episode: 33/60, score: 241, e: 0.0099\n",
            "episode: 34/60, score: 124, e: 0.0099\n",
            "episode: 35/60, score: 118, e: 0.0099\n",
            "episode: 36/60, score: 218, e: 0.0099\n",
            "episode: 37/60, score: 179, e: 0.0099\n",
            "episode: 38/60, score: 120, e: 0.0099\n",
            "episode: 39/60, score: 21, e: 0.0099\n",
            "episode: 40/60, score: 35, e: 0.0099\n",
            "episode: 41/60, score: 127, e: 0.0099\n",
            "episode: 42/60, score: 130, e: 0.0099\n",
            "episode: 43/60, score: 106, e: 0.0099\n",
            "episode: 44/60, score: 107, e: 0.0099\n",
            "episode: 45/60, score: 170, e: 0.0099\n",
            "episode: 46/60, score: 196, e: 0.0099\n",
            "episode: 47/60, score: 263, e: 0.0099\n",
            "episode: 48/60, score: 156, e: 0.0099\n",
            "episode: 49/60, score: 166, e: 0.0099\n",
            "episode: 50/60, score: 106, e: 0.0099\n",
            "episode: 51/60, score: 222, e: 0.0099\n",
            "episode: 52/60, score: 424, e: 0.0099\n",
            "episode: 53/60, score: 250, e: 0.0099\n",
            "episode: 54/60, score: 158, e: 0.0099\n",
            "episode: 55/60, score: 187, e: 0.0099\n",
            "episode: 56/60, score: 135, e: 0.0099\n",
            "episode: 57/60, score: 17, e: 0.0099\n",
            "episode: 58/60, score: 113, e: 0.0099\n",
            "episode: 59/60, score: 115, e: 0.0099\n"
          ],
          "name": "stdout"
        }
      ]
    }
  ]
}